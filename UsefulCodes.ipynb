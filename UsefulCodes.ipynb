{
 "cells": [
  {
   "cell_type": "markdown",
   "metadata": {},
   "source": [
    "# 勉強になったコーディング集\n",
    "ためになった実装集のメモ"
   ]
  },
  {
   "cell_type": "markdown",
   "metadata": {},
   "source": [
    "### 必要なライブラリ等"
   ]
  },
  {
   "cell_type": "code",
   "execution_count": 2,
   "metadata": {
    "collapsed": true
   },
   "outputs": [],
   "source": [
    "import numpy as np\n",
    "import matplotlib.pyplot as plt\n",
    "\n",
    "import sklearn\n",
    "from sklearn.datasets import fetch_mldata"
   ]
  },
  {
   "cell_type": "markdown",
   "metadata": {},
   "source": [
    "### データの準備"
   ]
  },
  {
   "cell_type": "code",
   "execution_count": 4,
   "metadata": {
    "collapsed": true
   },
   "outputs": [],
   "source": [
    "mnist = fetch_mldata('MNIST original')"
   ]
  },
  {
   "cell_type": "markdown",
   "metadata": {
    "heading_collapsed": true
   },
   "source": [
    "### numpy.newaxis\n",
    "\n",
    "numpy.newaxisは配列や行列に対して新しい次元を追加できるオブジェクト。\n",
    "\n",
    "例えば、N次元配列 `x` を考えると `x.shape = (N,)` ですが、numpy.newaxisを用いることで、\n",
    "\n",
    "行ベクトル `x[numpy.newaxis, :].shape = (1,N)` としたり、\n",
    "\n",
    "列ベクトル `x[:, numpy.newaxis].shape = (N,1)` としたりすることが可能です。"
   ]
  },
  {
   "cell_type": "code",
   "execution_count": 8,
   "metadata": {
    "collapsed": false,
    "hidden": true
   },
   "outputs": [
    {
     "name": "stdout",
     "output_type": "stream",
     "text": [
      "[[1 2 3]\n",
      " [4 5 6]]\n",
      "[7 8 9]\n",
      "\n",
      "[[7 8 9]]\n",
      "\n",
      "[[7]\n",
      " [8]\n",
      " [9]]\n",
      "\n",
      "[[7 8 9]]\n"
     ]
    }
   ],
   "source": [
    "W = np.array([[1, 2, 3], [4, 5, 6]])\n",
    "x = np.array([7, 8, 9])\n",
    "\n",
    "print(W)\n",
    "print(x)\n",
    "print()\n",
    "\n",
    "print(x[np.newaxis, :])  # two dimension\n",
    "print()\n",
    "\n",
    "print(x[:, np.newaxis])  # two dimension with different shape\n",
    "print()\n",
    "\n",
    "print(x[np.newaxis])  # x[np.newaxis,:]と同じ"
   ]
  },
  {
   "cell_type": "markdown",
   "metadata": {
    "collapsed": true
   },
   "source": [
    "### numpy.tile\n",
    "numpy.tileは配列を複製してタイル状に並べた新しい配列を生成する関数  \n",
    "1次元配列はもちろん,2次元配列にも対応している。"
   ]
  },
  {
   "cell_type": "code",
   "execution_count": 21,
   "metadata": {
    "collapsed": false
   },
   "outputs": [
    {
     "name": "stdout",
     "output_type": "stream",
     "text": [
      "[7 8 9]\n",
      "\n",
      "[7 8 9 7 8 9]\n",
      "\n",
      "[[7 8 9 7 8 9]\n",
      " [7 8 9 7 8 9]\n",
      " [7 8 9 7 8 9]]\n",
      "\n",
      "[[[7 8 9 7 8 9 7 8 9 7 8 9]\n",
      "  [7 8 9 7 8 9 7 8 9 7 8 9]\n",
      "  [7 8 9 7 8 9 7 8 9 7 8 9]]\n",
      "\n",
      " [[7 8 9 7 8 9 7 8 9 7 8 9]\n",
      "  [7 8 9 7 8 9 7 8 9 7 8 9]\n",
      "  [7 8 9 7 8 9 7 8 9 7 8 9]]]\n",
      "\n",
      "[[1 2 3 1 2 3]\n",
      " [4 5 6 4 5 6]]\n",
      "\n"
     ]
    }
   ],
   "source": [
    "print(x)\n",
    "print()\n",
    "\n",
    "print(np.tile(x, 2))\n",
    "print()\n",
    "\n",
    "print(np.tile(x, (3, 2))) # 3×2の二次元配列の要素がaになっているイメージ\n",
    "print()\n",
    "\n",
    "print(np.tile(x, (2,3,4))) # 3次元にも並べられる。\n",
    "print()\n",
    "\n",
    "print(np.tile(W, 2)) # 2次元配列でもOK\n",
    "print()"
   ]
  },
  {
   "cell_type": "markdown",
   "metadata": {
    "collapsed": true
   },
   "source": [
    "### 複数プロットの書き方\n",
    "fig, ax = ... と書かなくても良い書き方がある"
   ]
  },
  {
   "cell_type": "code",
   "execution_count": 8,
   "metadata": {
    "collapsed": false
   },
   "outputs": [
    {
     "data": {
      "image/png": "[encoded data removed]",
      "text/plain": [
       "<matplotlib.figure.Figure at 0x11b648780>"
      ]
     },
     "metadata": {},
     "output_type": "display_data"
    }
   ],
   "source": [
    "# リストにする\n",
    "imgs = list(map(lambda x: x.reshape(28, 28), sklearn.utils.shuffle(mnist.data)))\n",
    "\n",
    "row, col = 1, 4\n",
    "\n",
    "fig = plt.figure()\n",
    "for i in range(row*col):\n",
    "    sp = fig.add_subplot(row, col, i+1)  \n",
    "    sp.imshow(imgs[i], cmap='gray', interpolation='none')\n",
    "plt.show()"
   ]
  },
  {
   "cell_type": "code",
   "execution_count": null,
   "metadata": {
    "collapsed": true
   },
   "outputs": [],
   "source": []
  }
 ],
 "metadata": {
  "kernelspec": {
   "display_name": "Python 3",
   "language": "python",
   "name": "python3"
  },
  "language_info": {
   "codemirror_mode": {
    "name": "ipython",
    "version": 3
   },
   "file_extension": ".py",
   "mimetype": "text/x-python",
   "name": "python",
   "nbconvert_exporter": "python",
   "pygments_lexer": "ipython3",
   "version": "3.6.0"
  },
  "toc": {
   "base_numbering": 1,
   "nav_menu": {},
   "number_sections": true,
   "sideBar": true,
   "skip_h1_title": false,
   "title_cell": "Table of Contents",
   "title_sidebar": "Contents",
   "toc_cell": false,
   "toc_position": {},
   "toc_section_display": true,
   "toc_window_display": false
  }
 },
 "nbformat": 4,
 "nbformat_minor": 2
}
